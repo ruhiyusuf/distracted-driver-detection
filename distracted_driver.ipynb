{
 "cells": [
  {
   "cell_type": "code",
   "execution_count": 2,
   "id": "5e343fdd",
   "metadata": {},
   "outputs": [],
   "source": [
    "import os\n",
    "import random\n",
    "import math\n",
    "import cv2\n",
    "import json\n",
    "import numpy as np\n",
    "import pandas as pd"
   ]
  },
  {
   "cell_type": "code",
   "execution_count": 36,
   "id": "vanilla-madrid",
   "metadata": {},
   "outputs": [],
   "source": [
    "import numpy as np\n",
    "\n",
    "import os\n",
    "import glob\n",
    "import cv2\n",
    "import math\n",
    "import pickle\n",
    "import datetime\n",
    "import pandas as pd\n",
    "from shutil import copyfile,copy2"
   ]
  },
  {
   "cell_type": "code",
   "execution_count": 6,
   "id": "c72e9b67",
   "metadata": {},
   "outputs": [
    {
     "ename": "ModuleNotFoundError",
     "evalue": "No module named 'keras'",
     "output_type": "error",
     "traceback": [
      "\u001b[1;31m---------------------------------------------------------------------------\u001b[0m",
      "\u001b[1;31mModuleNotFoundError\u001b[0m                       Traceback (most recent call last)",
      "\u001b[1;32m~\\AppData\\Local\\Temp/ipykernel_44520/2672292196.py\u001b[0m in \u001b[0;36m<module>\u001b[1;34m\u001b[0m\n\u001b[1;32m----> 1\u001b[1;33m \u001b[1;32mfrom\u001b[0m \u001b[0mkeras\u001b[0m\u001b[1;33m.\u001b[0m\u001b[0mpreprocessing\u001b[0m\u001b[1;33m.\u001b[0m\u001b[0mimage\u001b[0m \u001b[1;32mimport\u001b[0m \u001b[0mImageDataGenerator\u001b[0m\u001b[1;33m\u001b[0m\u001b[1;33m\u001b[0m\u001b[0m\n\u001b[0m",
      "\u001b[1;31mModuleNotFoundError\u001b[0m: No module named 'keras'"
     ]
    }
   ],
   "source": [
    "from keras.preprocessing.image import ImageDataGenerator"
   ]
  },
  {
   "cell_type": "code",
   "execution_count": 5,
   "id": "6d98f89a",
   "metadata": {},
   "outputs": [
    {
     "name": "stdout",
     "output_type": "stream",
     "text": [
      "Name: keras\n",
      "Version: 2.7.0\n",
      "Summary: Deep learning for humans.\n",
      "Home-page: https://keras.io/\n",
      "Author: Keras team\n",
      "Author-email: keras-users@googlegroups.com\n",
      "License: Apache 2.0\n",
      "Location: c:\\users\\ruhiy\\.conda\\envs\\distracted_driver\\lib\\site-packages\n",
      "Requires: \n",
      "Required-by: tensorflow\n",
      "Note: you may need to restart the kernel to use updated packages.\n"
     ]
    }
   ],
   "source": [
    "pip show keras"
   ]
  },
  {
   "cell_type": "code",
   "execution_count": 1,
   "id": "3eb20c33",
   "metadata": {},
   "outputs": [
    {
     "name": "stdout",
     "output_type": "stream",
     "text": [
      "Name: numpy\n",
      "Version: 1.21.2\n",
      "Summary: NumPy is the fundamental package for array computing with Python.\n",
      "Home-page: https://www.numpy.org\n",
      "Author: Travis E. Oliphant et al.\n",
      "Author-email: \n",
      "License: BSD\n",
      "Location: c:\\users\\ruhiy\\.conda\\envs\\distracted_driver\\lib\\site-packages\n",
      "Requires: \n",
      "Required-by: tensorflow, tensorboard, scipy, pandas, opt-einsum, numexpr, mkl-random, mkl-fft, Keras-Preprocessing, h5py, Bottleneck\n",
      "Note: you may need to restart the kernel to use updated packages.\n"
     ]
    }
   ],
   "source": [
    "pip show numpy"
   ]
  },
  {
   "cell_type": "code",
   "execution_count": 6,
   "id": "4ee31de6",
   "metadata": {},
   "outputs": [
    {
     "name": "stdout",
     "output_type": "stream",
     "text": [
      "Note: you may need to restart the kernel to use updated packages.\n"
     ]
    },
    {
     "name": "stderr",
     "output_type": "stream",
     "text": [
      "WARNING: Package(s) not found: tensorflow-gpu\n"
     ]
    }
   ],
   "source": [
    "pip show tensorflow-gpu"
   ]
  },
  {
   "cell_type": "code",
   "execution_count": 4,
   "id": "3951f8a0",
   "metadata": {},
   "outputs": [
    {
     "name": "stdout",
     "output_type": "stream",
     "text": [
      "Name: pandas\n",
      "Version: 1.3.4\n",
      "Summary: Powerful data structures for data analysis, time series, and statistics\n",
      "Home-page: https://pandas.pydata.org\n",
      "Author: The Pandas Development Team\n",
      "Author-email: pandas-dev@python.org\n",
      "License: BSD-3-Clause\n",
      "Location: c:\\users\\ruhiy\\.conda\\envs\\distracted_driver\\lib\\site-packages\n",
      "Requires: python-dateutil, pytz, numpy\n",
      "Required-by: \n",
      "Note: you may need to restart the kernel to use updated packages.\n"
     ]
    }
   ],
   "source": [
    "pip show pandas"
   ]
  },
  {
   "cell_type": "code",
   "execution_count": 3,
   "id": "4f5471a4",
   "metadata": {},
   "outputs": [
    {
     "name": "stdout",
     "output_type": "stream",
     "text": [
      "Name: ipython\n",
      "Version: 7.29.0\n",
      "Summary: IPython: Productive Interactive Computing\n",
      "Home-page: https://ipython.org\n",
      "Author: The IPython Development Team\n",
      "Author-email: ipython-dev@python.org\n",
      "License: BSD\n",
      "Location: c:\\users\\ruhiy\\.conda\\envs\\distracted_driver\\lib\\site-packages\n",
      "Requires: matplotlib-inline, prompt-toolkit, backcall, traitlets, decorator, jedi, pygments, colorama, pickleshare, setuptools\n",
      "Required-by: ipykernel\n",
      "Note: you may need to restart the kernel to use updated packages.\n"
     ]
    }
   ],
   "source": [
    "pip show IPython"
   ]
  },
  {
   "cell_type": "code",
   "execution_count": 3,
   "id": "5c43540f",
   "metadata": {},
   "outputs": [
    {
     "data": {
      "text/plain": [
       "'2.7.0'"
      ]
     },
     "execution_count": 3,
     "metadata": {},
     "output_type": "execute_result"
    }
   ],
   "source": [
    "import tensorflow as tf\n",
    "tf.__version__"
   ]
  },
  {
   "cell_type": "code",
   "execution_count": 2,
   "id": "ddf6cdae",
   "metadata": {},
   "outputs": [
    {
     "data": {
      "text/plain": [
       "'2.7.0'"
      ]
     },
     "execution_count": 2,
     "metadata": {},
     "output_type": "execute_result"
    }
   ],
   "source": [
    "import keras\n",
    "keras.__version__"
   ]
  },
  {
   "cell_type": "code",
   "execution_count": 5,
   "id": "46bbcee4",
   "metadata": {},
   "outputs": [],
   "source": [
    "BASE_DIR = r'C:\\Users\\ruhiy\\Documents\\Machine Learning\\Distracted Driver Detection'"
   ]
  },
  {
   "cell_type": "code",
   "execution_count": 7,
   "id": "angry-minutes",
   "metadata": {},
   "outputs": [
    {
     "name": "stdout",
     "output_type": "stream",
     "text": [
      "C:\\Users\\ruhiy\\Documents\\Machine Learning\\Distracted Driver Detection\\state-farm-distracted-driver-detection\n"
     ]
    }
   ],
   "source": [
    "DATA_DIR = os.path.join(BASE_DIR, r'state-farm-distracted-driver-detection')\n",
    "print(DATA_DIR)"
   ]
  },
  {
   "cell_type": "code",
   "execution_count": 8,
   "id": "powerful-hybrid",
   "metadata": {},
   "outputs": [],
   "source": [
    "TRAIN_DIR = os.path.join(DATA_DIR, r'imgs\\train')\n",
    "TEST_DIR = os.path.join(DATA_DIR, r'imgs\\test')"
   ]
  },
  {
   "cell_type": "markdown",
   "id": "be3260a2",
   "metadata": {},
   "source": [
    "Create training, test, and validation datasets"
   ]
  },
  {
   "cell_type": "code",
   "execution_count": 9,
   "id": "e685ebfa",
   "metadata": {},
   "outputs": [],
   "source": [
    "csv = pd.read_csv(os.path.join(DATA_DIR, 'driver_imgs_list.csv'))"
   ]
  },
  {
   "cell_type": "code",
   "execution_count": 10,
   "id": "e2e220e7",
   "metadata": {},
   "outputs": [
    {
     "data": {
      "text/html": [
       "<div>\n",
       "<style scoped>\n",
       "    .dataframe tbody tr th:only-of-type {\n",
       "        vertical-align: middle;\n",
       "    }\n",
       "\n",
       "    .dataframe tbody tr th {\n",
       "        vertical-align: top;\n",
       "    }\n",
       "\n",
       "    .dataframe thead th {\n",
       "        text-align: right;\n",
       "    }\n",
       "</style>\n",
       "<table border=\"1\" class=\"dataframe\">\n",
       "  <thead>\n",
       "    <tr style=\"text-align: right;\">\n",
       "      <th></th>\n",
       "      <th>subject</th>\n",
       "      <th>classname</th>\n",
       "      <th>img</th>\n",
       "    </tr>\n",
       "  </thead>\n",
       "  <tbody>\n",
       "    <tr>\n",
       "      <th>0</th>\n",
       "      <td>p002</td>\n",
       "      <td>c0</td>\n",
       "      <td>img_44733.jpg</td>\n",
       "    </tr>\n",
       "    <tr>\n",
       "      <th>1</th>\n",
       "      <td>p002</td>\n",
       "      <td>c0</td>\n",
       "      <td>img_72999.jpg</td>\n",
       "    </tr>\n",
       "    <tr>\n",
       "      <th>2</th>\n",
       "      <td>p002</td>\n",
       "      <td>c0</td>\n",
       "      <td>img_25094.jpg</td>\n",
       "    </tr>\n",
       "    <tr>\n",
       "      <th>3</th>\n",
       "      <td>p002</td>\n",
       "      <td>c0</td>\n",
       "      <td>img_69092.jpg</td>\n",
       "    </tr>\n",
       "    <tr>\n",
       "      <th>4</th>\n",
       "      <td>p002</td>\n",
       "      <td>c0</td>\n",
       "      <td>img_92629.jpg</td>\n",
       "    </tr>\n",
       "    <tr>\n",
       "      <th>...</th>\n",
       "      <td>...</td>\n",
       "      <td>...</td>\n",
       "      <td>...</td>\n",
       "    </tr>\n",
       "    <tr>\n",
       "      <th>22419</th>\n",
       "      <td>p081</td>\n",
       "      <td>c9</td>\n",
       "      <td>img_56936.jpg</td>\n",
       "    </tr>\n",
       "    <tr>\n",
       "      <th>22420</th>\n",
       "      <td>p081</td>\n",
       "      <td>c9</td>\n",
       "      <td>img_46218.jpg</td>\n",
       "    </tr>\n",
       "    <tr>\n",
       "      <th>22421</th>\n",
       "      <td>p081</td>\n",
       "      <td>c9</td>\n",
       "      <td>img_25946.jpg</td>\n",
       "    </tr>\n",
       "    <tr>\n",
       "      <th>22422</th>\n",
       "      <td>p081</td>\n",
       "      <td>c9</td>\n",
       "      <td>img_67850.jpg</td>\n",
       "    </tr>\n",
       "    <tr>\n",
       "      <th>22423</th>\n",
       "      <td>p081</td>\n",
       "      <td>c9</td>\n",
       "      <td>img_9684.jpg</td>\n",
       "    </tr>\n",
       "  </tbody>\n",
       "</table>\n",
       "<p>22424 rows × 3 columns</p>\n",
       "</div>"
      ],
      "text/plain": [
       "      subject classname            img\n",
       "0        p002        c0  img_44733.jpg\n",
       "1        p002        c0  img_72999.jpg\n",
       "2        p002        c0  img_25094.jpg\n",
       "3        p002        c0  img_69092.jpg\n",
       "4        p002        c0  img_92629.jpg\n",
       "...       ...       ...            ...\n",
       "22419    p081        c9  img_56936.jpg\n",
       "22420    p081        c9  img_46218.jpg\n",
       "22421    p081        c9  img_25946.jpg\n",
       "22422    p081        c9  img_67850.jpg\n",
       "22423    p081        c9   img_9684.jpg\n",
       "\n",
       "[22424 rows x 3 columns]"
      ]
     },
     "execution_count": 10,
     "metadata": {},
     "output_type": "execute_result"
    }
   ],
   "source": [
    "csv"
   ]
  },
  {
   "cell_type": "code",
   "execution_count": 16,
   "id": "21ec16cf",
   "metadata": {},
   "outputs": [],
   "source": [
    "csv = csv.values"
   ]
  },
  {
   "cell_type": "code",
   "execution_count": 17,
   "id": "5e24aa5d",
   "metadata": {},
   "outputs": [
    {
     "data": {
      "text/plain": [
       "array([['p002', 'c0', 'img_44733.jpg'],\n",
       "       ['p002', 'c0', 'img_72999.jpg'],\n",
       "       ['p002', 'c0', 'img_25094.jpg'],\n",
       "       ...,\n",
       "       ['p081', 'c9', 'img_25946.jpg'],\n",
       "       ['p081', 'c9', 'img_67850.jpg'],\n",
       "       ['p081', 'c9', 'img_9684.jpg']], dtype=object)"
      ]
     },
     "execution_count": 17,
     "metadata": {},
     "output_type": "execute_result"
    }
   ],
   "source": [
    "csv"
   ]
  },
  {
   "cell_type": "code",
   "execution_count": 18,
   "id": "58b600c8",
   "metadata": {},
   "outputs": [
    {
     "data": {
      "text/plain": [
       "'c0'"
      ]
     },
     "execution_count": 18,
     "metadata": {},
     "output_type": "execute_result"
    }
   ],
   "source": [
    "csv[0][1]"
   ]
  },
  {
   "cell_type": "code",
   "execution_count": 35,
   "id": "1f7d9af0",
   "metadata": {},
   "outputs": [],
   "source": [
    "# create directory structure for storing datasets\n",
    "datasets = ['train', 'test', 'validate']\n",
    "for i in datasets: \n",
    "    dataset_path = os.path.join(BASE_DIR, i)\n",
    "    if (not(os.path.exists(dataset_path))):\n",
    "        os.mkdir(dataset_path)\n",
    "    for j in range(0, 10): \n",
    "        class_path = os.path.join(dataset_path, 'c' + str(j))\n",
    "        if (not(os.path.exists(class_path))):\n",
    "            os.mkdir(class_path)"
   ]
  },
  {
   "cell_type": "code",
   "execution_count": 39,
   "id": "98e89de4",
   "metadata": {},
   "outputs": [],
   "source": [
    "# copy images from original train dataset into folders for train, \n",
    "# test, and validate while maintaining original folder structure.\n",
    "# divide the images in the train dataset as follows:\n",
    "# 25% of train images are test images\n",
    "# 10% of the remaining 75% are validation images\n",
    "# 90% of the remaining 75% are used for training\n",
    "\n",
    "i = j = 1\n",
    "for row in csv:\n",
    "    classname = row[1]\n",
    "    img = row[2]\n",
    "    if i % 4 == 0: # copy image into test dataset\n",
    "        dest_img = os.path.join(BASE_DIR, datasets[1], classname, img)\n",
    "        src_img = os.path.join(TRAIN_DIR, classname, img) \n",
    "        copy2(src_img, dest_img)\n",
    "    else:\n",
    "        if j % 10 == 0: # copy image into validate dataset\n",
    "            dest_img = os.path.join(BASE_DIR, datasets[2], classname, img)\n",
    "            src_img = os.path.join(TRAIN_DIR, classname, img) \n",
    "            copy2(src_img, dest_img)\n",
    "        else:\n",
    "            dest_img = os.path.join(BASE_DIR, datasets[0], classname, img)\n",
    "            src_img = os.path.join(TRAIN_DIR, classname, img) \n",
    "            copy2(src_img, dest_img)\n",
    "    \n",
    "    i += 1\n",
    "    j += 1\n",
    "    "
   ]
  },
  {
   "cell_type": "code",
   "execution_count": 61,
   "id": "6fa86c64",
   "metadata": {},
   "outputs": [
    {
     "name": "stdout",
     "output_type": "stream",
     "text": [
      "15697\n",
      "21303\n",
      "22424\n"
     ]
    }
   ],
   "source": [
    "# check how many images are copied to all directories\n",
    "from functools import reduce\n",
    "def count_files(dir):\n",
    "    return reduce(lambda x, y: x + y, ([len(files) for r, d, files in os.walk(dir)]))\n",
    "\n",
    "sum = 0\n",
    "for i in datasets:\n",
    "    sum += count_files(os.path.join(BASE_DIR, i))\n",
    "    print(sum)"
   ]
  },
  {
   "cell_type": "code",
   "execution_count": 62,
   "id": "259837d7",
   "metadata": {},
   "outputs": [],
   "source": [
    "def preProcess(x):\n",
    "    mean_pixel = [103.939, 116.779, 123.68]\n",
    "    x[0, :, :] -= mean_pixel[0]\n",
    "    x[1, :, :] -= mean_pixel[1]\n",
    "    x[2, :, :] -= mean_pixel[2]\n",
    "    return x"
   ]
  },
  {
   "cell_type": "code",
   "execution_count": 63,
   "id": "fdd501de",
   "metadata": {},
   "outputs": [
    {
     "ename": "NameError",
     "evalue": "name 'ImageDataGenerator' is not defined",
     "output_type": "error",
     "traceback": [
      "\u001b[1;31m---------------------------------------------------------------------------\u001b[0m",
      "\u001b[1;31mNameError\u001b[0m                                 Traceback (most recent call last)",
      "\u001b[1;32m<ipython-input-63-ed473753ee02>\u001b[0m in \u001b[0;36m<module>\u001b[1;34m\u001b[0m\n\u001b[0;32m      1\u001b[0m \u001b[1;31m# this is the augmentation configuration we will use for training\u001b[0m\u001b[1;33m\u001b[0m\u001b[1;33m\u001b[0m\u001b[1;33m\u001b[0m\u001b[0m\n\u001b[0;32m      2\u001b[0m \u001b[1;33m\u001b[0m\u001b[0m\n\u001b[1;32m----> 3\u001b[1;33m train_datagen = ImageDataGenerator(\n\u001b[0m\u001b[0;32m      4\u001b[0m         \u001b[0mrotation_range\u001b[0m\u001b[1;33m=\u001b[0m\u001b[1;36m20\u001b[0m\u001b[1;33m,\u001b[0m\u001b[1;33m\u001b[0m\u001b[1;33m\u001b[0m\u001b[0m\n\u001b[0;32m      5\u001b[0m         \u001b[0mwidth_shift_range\u001b[0m\u001b[1;33m=\u001b[0m\u001b[1;36m0.2\u001b[0m\u001b[1;33m,\u001b[0m\u001b[1;33m\u001b[0m\u001b[1;33m\u001b[0m\u001b[0m\n",
      "\u001b[1;31mNameError\u001b[0m: name 'ImageDataGenerator' is not defined"
     ]
    }
   ],
   "source": [
    "# this is the augmentation configuration we will use for training\n",
    "\n",
    "train_datagen = ImageDataGenerator(\n",
    "        rotation_range=20,\n",
    "        width_shift_range=0.2,\n",
    "        height_shift_range=0.2,\n",
    "        shear_range=0.1,\n",
    "        zoom_range=0.1,\n",
    "        horizontal_flip=False,\n",
    "        fill_mode='nearest',\n",
    "        preprocessing_function = preProcess)\n",
    "\n",
    "# # this is the augmentation configuration we will use for testing:\n",
    "# # only rescaling\n",
    "# train_data_dir = '../Labelled Train Data/'\n",
    "test_datagen = ImageDataGenerator(preprocessing_function = preProcess)\n",
    "\n",
    "train_data_dir = os.path.join(BASE_DIR, datasets[0])\n",
    "train_generator = train_datagen.flow_from_directory(\n",
    "        train_data_dir,\n",
    "        target_size=(img_width, img_height),\n",
    "        batch_size=32,\n",
    "        class_mode='categorical')\n",
    "\n",
    "\n",
    "validate_data_dir = os.path.join(BASE_DIR, datasets[2])\n",
    "validation_generator = test_datagen.flow_from_directory(\n",
    "        validate_data_dir,\n",
    "        target_size=(img_width, img_height),\n",
    "        batch_size=32,\n",
    "        class_mode='categorical')"
   ]
  },
  {
   "cell_type": "code",
   "execution_count": null,
   "id": "8204020c",
   "metadata": {},
   "outputs": [],
   "source": []
  }
 ],
 "metadata": {
  "kernelspec": {
   "display_name": "distracted_driver",
   "language": "python",
   "name": "distracted_driver"
  },
  "language_info": {
   "codemirror_mode": {
    "name": "ipython",
    "version": 3
   },
   "file_extension": ".py",
   "mimetype": "text/x-python",
   "name": "python",
   "nbconvert_exporter": "python",
   "pygments_lexer": "ipython3",
   "version": "3.9.7"
  }
 },
 "nbformat": 4,
 "nbformat_minor": 5
}
