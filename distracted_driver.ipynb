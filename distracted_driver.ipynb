{
 "cells": [
  {
   "cell_type": "code",
   "execution_count": 2,
   "id": "5e343fdd",
   "metadata": {},
   "outputs": [],
   "source": [
    "import os\n",
    "import random\n",
    "import math\n",
    "import cv2\n",
    "import json\n",
    "import numpy as np\n",
    "import pandas as pd"
   ]
  },
  {
   "cell_type": "code",
   "execution_count": 3,
   "id": "vanilla-madrid",
   "metadata": {},
   "outputs": [],
   "source": [
    "import numpy as np\n",
    "\n",
    "import os\n",
    "import glob\n",
    "import cv2\n",
    "import math\n",
    "import pickle\n",
    "import datetime\n",
    "import pandas as pd\n",
    "from shutil import copyfile,copy2\n",
    "from PIL import Image"
   ]
  },
  {
   "cell_type": "code",
   "execution_count": 4,
   "id": "c72e9b67",
   "metadata": {},
   "outputs": [],
   "source": [
    "from keras.preprocessing.image import ImageDataGenerator"
   ]
  },
  {
   "cell_type": "code",
   "execution_count": 5,
   "id": "6d98f89a",
   "metadata": {},
   "outputs": [
    {
     "name": "stdout",
     "output_type": "stream",
     "text": [
      "Name: keras\n",
      "Version: 2.7.0\n",
      "Summary: Deep learning for humans.\n",
      "Home-page: https://keras.io/\n",
      "Author: Keras team\n",
      "Author-email: keras-users@googlegroups.com\n",
      "License: Apache 2.0\n",
      "Location: c:\\users\\ruhiy\\appdata\\local\\programs\\python\\python39\\lib\\site-packages\n",
      "Requires: \n",
      "Required-by: tensorflow-gpu\n",
      "Note: you may need to restart the kernel to use updated packages.\n"
     ]
    }
   ],
   "source": [
    "pip show keras"
   ]
  },
  {
   "cell_type": "code",
   "execution_count": 6,
   "id": "3eb20c33",
   "metadata": {},
   "outputs": [
    {
     "name": "stdout",
     "output_type": "stream",
     "text": [
      "Name: numpy\n",
      "Version: 1.21.5\n",
      "Summary: NumPy is the fundamental package for array computing with Python.\n",
      "Home-page: https://www.numpy.org\n",
      "Author: Travis E. Oliphant et al.\n",
      "Author-email: \n",
      "License: BSD\n",
      "Location: c:\\users\\ruhiy\\appdata\\local\\programs\\python\\python39\\lib\\site-packages\n",
      "Requires: \n",
      "Required-by: h5py, Keras-Preprocessing, matplotlib, opencv-python, opt-einsum, pandas, scikit-learn, scipy, tensorboard, tensorflow-gpu\n",
      "Note: you may need to restart the kernel to use updated packages.\n"
     ]
    }
   ],
   "source": [
    "pip show numpy"
   ]
  },
  {
   "cell_type": "code",
   "execution_count": 7,
   "id": "4ee31de6",
   "metadata": {},
   "outputs": [
    {
     "name": "stdout",
     "output_type": "stream",
     "text": [
      "Name: tensorflow-gpu\n",
      "Version: 2.7.0\n",
      "Summary: TensorFlow is an open source machine learning framework for everyone.\n",
      "Home-page: https://www.tensorflow.org/\n",
      "Author: Google Inc.\n",
      "Author-email: packages@tensorflow.org\n",
      "License: Apache 2.0\n",
      "Location: c:\\users\\ruhiy\\appdata\\roaming\\python\\python39\\site-packages\n",
      "Requires: absl-py, astunparse, flatbuffers, gast, google-pasta, grpcio, h5py, keras, keras-preprocessing, libclang, numpy, opt-einsum, protobuf, six, tensorboard, tensorflow-estimator, tensorflow-io-gcs-filesystem, termcolor, typing-extensions, wheel, wrapt\n",
      "Required-by: \n",
      "Note: you may need to restart the kernel to use updated packages.\n"
     ]
    }
   ],
   "source": [
    "pip show tensorflow-gpu"
   ]
  },
  {
   "cell_type": "code",
   "execution_count": 8,
   "id": "3951f8a0",
   "metadata": {},
   "outputs": [
    {
     "name": "stdout",
     "output_type": "stream",
     "text": [
      "Name: pandas\n",
      "Version: 1.3.5\n",
      "Summary: Powerful data structures for data analysis, time series, and statistics\n",
      "Home-page: https://pandas.pydata.org\n",
      "Author: The Pandas Development Team\n",
      "Author-email: pandas-dev@python.org\n",
      "License: BSD-3-Clause\n",
      "Location: c:\\users\\ruhiy\\appdata\\local\\programs\\python\\python39\\lib\\site-packages\n",
      "Requires: numpy, python-dateutil, pytz\n",
      "Required-by: \n",
      "Note: you may need to restart the kernel to use updated packages.\n"
     ]
    }
   ],
   "source": [
    "pip show pandas"
   ]
  },
  {
   "cell_type": "code",
   "execution_count": 9,
   "id": "4f5471a4",
   "metadata": {},
   "outputs": [
    {
     "name": "stdout",
     "output_type": "stream",
     "text": [
      "Name: ipythonNote: you may need to restart the kernel to use updated packages.\n",
      "\n",
      "Version: 7.24.1\n",
      "Summary: IPython: Productive Interactive Computing\n",
      "Home-page: https://ipython.org\n",
      "Author: The IPython Development Team\n",
      "Author-email: ipython-dev@python.org\n",
      "License: BSD\n",
      "Location: c:\\users\\ruhiy\\appdata\\local\\programs\\python\\python39\\lib\\site-packages\n",
      "Requires: backcall, colorama, decorator, jedi, matplotlib-inline, pickleshare, prompt-toolkit, pygments, setuptools, traitlets\n",
      "Required-by: ipykernel, ipywidgets, jupyter-console\n"
     ]
    }
   ],
   "source": [
    "pip show IPython"
   ]
  },
  {
   "cell_type": "code",
   "execution_count": 10,
   "id": "5c43540f",
   "metadata": {},
   "outputs": [
    {
     "data": {
      "text/plain": [
       "'2.7.0'"
      ]
     },
     "execution_count": 10,
     "metadata": {},
     "output_type": "execute_result"
    }
   ],
   "source": [
    "import tensorflow as tf\n",
    "tf.__version__"
   ]
  },
  {
   "cell_type": "code",
   "execution_count": 11,
   "id": "ddf6cdae",
   "metadata": {},
   "outputs": [
    {
     "data": {
      "text/plain": [
       "'2.7.0'"
      ]
     },
     "execution_count": 11,
     "metadata": {},
     "output_type": "execute_result"
    }
   ],
   "source": [
    "import keras\n",
    "keras.__version__"
   ]
  },
  {
   "cell_type": "code",
   "execution_count": 18,
   "id": "46bbcee4",
   "metadata": {},
   "outputs": [],
   "source": [
    "BASE_DIR = r'C:\\Users\\ruhiy\\Documents\\Machine Learning\\Distracted Driver Detection\\DDD Model Creation'"
   ]
  },
  {
   "cell_type": "code",
   "execution_count": 19,
   "id": "angry-minutes",
   "metadata": {},
   "outputs": [
    {
     "name": "stdout",
     "output_type": "stream",
     "text": [
      "C:\\Users\\ruhiy\\Documents\\Machine Learning\\Distracted Driving\\distracted_driver\\state-farm-distracted-driver-detection\n"
     ]
    }
   ],
   "source": [
    "DATA_DIR = os.path.join(BASE_DIR, r'state-farm-distracted-driver-detection')\n",
    "print(DATA_DIR)"
   ]
  },
  {
   "cell_type": "code",
   "execution_count": 20,
   "id": "powerful-hybrid",
   "metadata": {},
   "outputs": [],
   "source": [
    "TRAIN_DIR = os.path.join(DATA_DIR, r'imgs\\train')\n",
    "TEST_DIR = os.path.join(DATA_DIR, r'imgs\\test')"
   ]
  },
  {
   "cell_type": "code",
   "execution_count": 21,
   "id": "67563e50",
   "metadata": {},
   "outputs": [],
   "source": [
    "model_description = 'model_vgg16'\n",
    "model_file = model_description + '.h5'"
   ]
  },
  {
   "cell_type": "markdown",
   "id": "be3260a2",
   "metadata": {},
   "source": [
    "Create training, test, and validation datasets"
   ]
  },
  {
   "cell_type": "code",
   "execution_count": 22,
   "id": "e685ebfa",
   "metadata": {},
   "outputs": [],
   "source": [
    "csv = pd.read_csv(os.path.join(DATA_DIR, 'driver_imgs_list.csv'))"
   ]
  },
  {
   "cell_type": "code",
   "execution_count": 23,
   "id": "e2e220e7",
   "metadata": {},
   "outputs": [
    {
     "data": {
      "text/html": [
       "<div>\n",
       "<style scoped>\n",
       "    .dataframe tbody tr th:only-of-type {\n",
       "        vertical-align: middle;\n",
       "    }\n",
       "\n",
       "    .dataframe tbody tr th {\n",
       "        vertical-align: top;\n",
       "    }\n",
       "\n",
       "    .dataframe thead th {\n",
       "        text-align: right;\n",
       "    }\n",
       "</style>\n",
       "<table border=\"1\" class=\"dataframe\">\n",
       "  <thead>\n",
       "    <tr style=\"text-align: right;\">\n",
       "      <th></th>\n",
       "      <th>subject</th>\n",
       "      <th>classname</th>\n",
       "      <th>img</th>\n",
       "    </tr>\n",
       "  </thead>\n",
       "  <tbody>\n",
       "    <tr>\n",
       "      <th>0</th>\n",
       "      <td>p002</td>\n",
       "      <td>c0</td>\n",
       "      <td>img_44733.jpg</td>\n",
       "    </tr>\n",
       "    <tr>\n",
       "      <th>1</th>\n",
       "      <td>p002</td>\n",
       "      <td>c0</td>\n",
       "      <td>img_72999.jpg</td>\n",
       "    </tr>\n",
       "    <tr>\n",
       "      <th>2</th>\n",
       "      <td>p002</td>\n",
       "      <td>c0</td>\n",
       "      <td>img_25094.jpg</td>\n",
       "    </tr>\n",
       "    <tr>\n",
       "      <th>3</th>\n",
       "      <td>p002</td>\n",
       "      <td>c0</td>\n",
       "      <td>img_69092.jpg</td>\n",
       "    </tr>\n",
       "    <tr>\n",
       "      <th>4</th>\n",
       "      <td>p002</td>\n",
       "      <td>c0</td>\n",
       "      <td>img_92629.jpg</td>\n",
       "    </tr>\n",
       "    <tr>\n",
       "      <th>...</th>\n",
       "      <td>...</td>\n",
       "      <td>...</td>\n",
       "      <td>...</td>\n",
       "    </tr>\n",
       "    <tr>\n",
       "      <th>22419</th>\n",
       "      <td>p081</td>\n",
       "      <td>c9</td>\n",
       "      <td>img_56936.jpg</td>\n",
       "    </tr>\n",
       "    <tr>\n",
       "      <th>22420</th>\n",
       "      <td>p081</td>\n",
       "      <td>c9</td>\n",
       "      <td>img_46218.jpg</td>\n",
       "    </tr>\n",
       "    <tr>\n",
       "      <th>22421</th>\n",
       "      <td>p081</td>\n",
       "      <td>c9</td>\n",
       "      <td>img_25946.jpg</td>\n",
       "    </tr>\n",
       "    <tr>\n",
       "      <th>22422</th>\n",
       "      <td>p081</td>\n",
       "      <td>c9</td>\n",
       "      <td>img_67850.jpg</td>\n",
       "    </tr>\n",
       "    <tr>\n",
       "      <th>22423</th>\n",
       "      <td>p081</td>\n",
       "      <td>c9</td>\n",
       "      <td>img_9684.jpg</td>\n",
       "    </tr>\n",
       "  </tbody>\n",
       "</table>\n",
       "<p>22424 rows × 3 columns</p>\n",
       "</div>"
      ],
      "text/plain": [
       "      subject classname            img\n",
       "0        p002        c0  img_44733.jpg\n",
       "1        p002        c0  img_72999.jpg\n",
       "2        p002        c0  img_25094.jpg\n",
       "3        p002        c0  img_69092.jpg\n",
       "4        p002        c0  img_92629.jpg\n",
       "...       ...       ...            ...\n",
       "22419    p081        c9  img_56936.jpg\n",
       "22420    p081        c9  img_46218.jpg\n",
       "22421    p081        c9  img_25946.jpg\n",
       "22422    p081        c9  img_67850.jpg\n",
       "22423    p081        c9   img_9684.jpg\n",
       "\n",
       "[22424 rows x 3 columns]"
      ]
     },
     "execution_count": 23,
     "metadata": {},
     "output_type": "execute_result"
    }
   ],
   "source": [
    "csv"
   ]
  },
  {
   "cell_type": "code",
   "execution_count": 24,
   "id": "21ec16cf",
   "metadata": {},
   "outputs": [],
   "source": [
    "csv = csv.values"
   ]
  },
  {
   "cell_type": "code",
   "execution_count": 25,
   "id": "5e24aa5d",
   "metadata": {},
   "outputs": [
    {
     "data": {
      "text/plain": [
       "array([['p002', 'c0', 'img_44733.jpg'],\n",
       "       ['p002', 'c0', 'img_72999.jpg'],\n",
       "       ['p002', 'c0', 'img_25094.jpg'],\n",
       "       ...,\n",
       "       ['p081', 'c9', 'img_25946.jpg'],\n",
       "       ['p081', 'c9', 'img_67850.jpg'],\n",
       "       ['p081', 'c9', 'img_9684.jpg']], dtype=object)"
      ]
     },
     "execution_count": 25,
     "metadata": {},
     "output_type": "execute_result"
    }
   ],
   "source": [
    "csv"
   ]
  },
  {
   "cell_type": "code",
   "execution_count": 26,
   "id": "58b600c8",
   "metadata": {},
   "outputs": [
    {
     "data": {
      "text/plain": [
       "'c0'"
      ]
     },
     "execution_count": 26,
     "metadata": {},
     "output_type": "execute_result"
    }
   ],
   "source": [
    "csv[0][1]"
   ]
  },
  {
   "cell_type": "code",
   "execution_count": 27,
   "id": "1f7d9af0",
   "metadata": {},
   "outputs": [],
   "source": [
    "# create directory structure for storing datasets\n",
    "datasets = ['train', 'test', 'validate']\n",
    "NUM_CLASSES = 10\n",
    "for i in datasets: \n",
    "    dataset_path = os.path.join(BASE_DIR, i)\n",
    "    if (not(os.path.exists(dataset_path))):\n",
    "        os.mkdir(dataset_path)\n",
    "    for j in range(0, NUM_CLASSES): \n",
    "        class_path = os.path.join(dataset_path, 'c' + str(j))\n",
    "        if (not(os.path.exists(class_path))):\n",
    "            os.mkdir(class_path)"
   ]
  },
  {
   "cell_type": "code",
   "execution_count": 28,
   "id": "98e89de4",
   "metadata": {},
   "outputs": [],
   "source": [
    "# copy images from original train dataset into folders for train, \n",
    "# test, and validate while maintaining original folder structure.\n",
    "# divide the images in the train dataset as follows:\n",
    "# 25% of train images are test images\n",
    "# 10% of the remaining 75% are validation images\n",
    "# 90% of the remaining 75% are used for training\n",
    "\n",
    "i = j = 1\n",
    "for row in csv:\n",
    "    classname = row[1]\n",
    "    img = row[2]\n",
    "    if i % 4 == 0: # copy image into test dataset\n",
    "        dest_img = os.path.join(BASE_DIR, datasets[1], classname, img)\n",
    "        src_img = os.path.join(TRAIN_DIR, classname, img) \n",
    "        copy2(src_img, dest_img)\n",
    "    else:\n",
    "        if j % 10 == 0: # copy image into validate dataset\n",
    "            dest_img = os.path.join(BASE_DIR, datasets[2], classname, img)\n",
    "            src_img = os.path.join(TRAIN_DIR, classname, img) \n",
    "            copy2(src_img, dest_img)\n",
    "        else:\n",
    "            dest_img = os.path.join(BASE_DIR, datasets[0], classname, img)\n",
    "            src_img = os.path.join(TRAIN_DIR, classname, img) \n",
    "            copy2(src_img, dest_img)\n",
    "    \n",
    "    i += 1\n",
    "    j += 1\n",
    "    "
   ]
  },
  {
   "cell_type": "code",
   "execution_count": 29,
   "id": "6fa86c64",
   "metadata": {},
   "outputs": [
    {
     "name": "stdout",
     "output_type": "stream",
     "text": [
      "15697\n",
      "21303\n",
      "22424\n"
     ]
    }
   ],
   "source": [
    "# check how many images are copied to all directories\n",
    "from functools import reduce\n",
    "def count_files(dir):\n",
    "    return reduce(lambda x, y: x + y, ([len(files) for r, d, files in os.walk(dir)]))\n",
    "\n",
    "sum = 0\n",
    "for i in datasets:\n",
    "    sum += count_files(os.path.join(BASE_DIR, i))\n",
    "    print(sum)"
   ]
  },
  {
   "cell_type": "code",
   "execution_count": 30,
   "id": "259837d7",
   "metadata": {},
   "outputs": [],
   "source": [
    "def preProcess(x):\n",
    "    mean_pixel = [103.939, 116.779, 123.68]\n",
    "    x[0, :, :] -= mean_pixel[0]\n",
    "    x[1, :, :] -= mean_pixel[1]\n",
    "    x[2, :, :] -= mean_pixel[2]\n",
    "    return x"
   ]
  },
  {
   "cell_type": "code",
   "execution_count": 31,
   "id": "8204020c",
   "metadata": {},
   "outputs": [],
   "source": [
    "from keras.layers import Dense, Flatten, Dropout, MaxPooling2D, Conv2D\n",
    "from keras.models import Sequential\n",
    "from tensorflow.keras.optimizers import SGD\n",
    "from keras.applications.vgg16 import VGG16\n",
    "from keras.models import Model\n",
    "\n",
    "img_width, img_height = 224, 224\n",
    "input_shape = (img_width, img_height, 3)\n",
    "\n",
    "model_orig = VGG16(include_top=True, input_shape=input_shape)\n",
    "\n",
    "# Add a layer where input is the output of the  second last layer\n",
    "x = Dense(NUM_CLASSES, activation='softmax', name='predictions')(model_orig.layers[-2].output)\n",
    "\n",
    "# Then create the corresponding model\n",
    "vgg16_model = Model(model_orig.input, x)\n",
    "\n",
    "# compile the model\n",
    "vgg16_model.compile(loss='categorical_crossentropy', optimizer=SGD(learning_rate=0.0001, momentum=0.9),\n",
    "                        metrics=['acc'])"
   ]
  },
  {
   "cell_type": "code",
   "execution_count": 32,
   "id": "40712399",
   "metadata": {
    "scrolled": true
   },
   "outputs": [
    {
     "name": "stdout",
     "output_type": "stream",
     "text": [
      "Model: \"model\"\n",
      "_________________________________________________________________\n",
      " Layer (type)                Output Shape              Param #   \n",
      "=================================================================\n",
      " input_1 (InputLayer)        [(None, 224, 224, 3)]     0         \n",
      "                                                                 \n",
      " block1_conv1 (Conv2D)       (None, 224, 224, 64)      1792      \n",
      "                                                                 \n",
      " block1_conv2 (Conv2D)       (None, 224, 224, 64)      36928     \n",
      "                                                                 \n",
      " block1_pool (MaxPooling2D)  (None, 112, 112, 64)      0         \n",
      "                                                                 \n",
      " block2_conv1 (Conv2D)       (None, 112, 112, 128)     73856     \n",
      "                                                                 \n",
      " block2_conv2 (Conv2D)       (None, 112, 112, 128)     147584    \n",
      "                                                                 \n",
      " block2_pool (MaxPooling2D)  (None, 56, 56, 128)       0         \n",
      "                                                                 \n",
      " block3_conv1 (Conv2D)       (None, 56, 56, 256)       295168    \n",
      "                                                                 \n",
      " block3_conv2 (Conv2D)       (None, 56, 56, 256)       590080    \n",
      "                                                                 \n",
      " block3_conv3 (Conv2D)       (None, 56, 56, 256)       590080    \n",
      "                                                                 \n",
      " block3_pool (MaxPooling2D)  (None, 28, 28, 256)       0         \n",
      "                                                                 \n",
      " block4_conv1 (Conv2D)       (None, 28, 28, 512)       1180160   \n",
      "                                                                 \n",
      " block4_conv2 (Conv2D)       (None, 28, 28, 512)       2359808   \n",
      "                                                                 \n",
      " block4_conv3 (Conv2D)       (None, 28, 28, 512)       2359808   \n",
      "                                                                 \n",
      " block4_pool (MaxPooling2D)  (None, 14, 14, 512)       0         \n",
      "                                                                 \n",
      " block5_conv1 (Conv2D)       (None, 14, 14, 512)       2359808   \n",
      "                                                                 \n",
      " block5_conv2 (Conv2D)       (None, 14, 14, 512)       2359808   \n",
      "                                                                 \n",
      " block5_conv3 (Conv2D)       (None, 14, 14, 512)       2359808   \n",
      "                                                                 \n",
      " block5_pool (MaxPooling2D)  (None, 7, 7, 512)         0         \n",
      "                                                                 \n",
      " flatten (Flatten)           (None, 25088)             0         \n",
      "                                                                 \n",
      " fc1 (Dense)                 (None, 4096)              102764544 \n",
      "                                                                 \n",
      " fc2 (Dense)                 (None, 4096)              16781312  \n",
      "                                                                 \n",
      " predictions (Dense)         (None, 10)                40970     \n",
      "                                                                 \n",
      "=================================================================\n",
      "Total params: 134,301,514\n",
      "Trainable params: 134,301,514\n",
      "Non-trainable params: 0\n",
      "_________________________________________________________________\n"
     ]
    }
   ],
   "source": [
    "vgg16_model.summary()"
   ]
  },
  {
   "cell_type": "code",
   "execution_count": 33,
   "id": "99d38417",
   "metadata": {},
   "outputs": [],
   "source": [
    "from keras.callbacks import EarlyStopping, Callback\n",
    "\n",
    "callbacks = [\n",
    "        EarlyStopping(monitor='val_loss', patience=3, verbose=1)\n",
    "    ]"
   ]
  },
  {
   "cell_type": "code",
   "execution_count": 34,
   "id": "3873c12c",
   "metadata": {},
   "outputs": [],
   "source": [
    "test_datagen = ImageDataGenerator(preprocessing_function = preProcess)\n",
    "train_datagen = ImageDataGenerator(\n",
    "        rotation_range=20,\n",
    "        width_shift_range=0.2,\n",
    "        height_shift_range=0.2,\n",
    "        shear_range=0.1,\n",
    "        zoom_range=0.1,\n",
    "        horizontal_flip=False,\n",
    "        fill_mode='nearest',\n",
    "        preprocessing_function = preProcess)"
   ]
  },
  {
   "cell_type": "code",
   "execution_count": 35,
   "id": "02dfa4d7",
   "metadata": {},
   "outputs": [
    {
     "name": "stdout",
     "output_type": "stream",
     "text": [
      "Found 15697 images belonging to 10 classes.\n",
      "Found 1121 images belonging to 10 classes.\n",
      "Epoch 1/10\n",
      "490/490 [==============================] - 146s 273ms/step - loss: 0.7538 - acc: 0.7463 - val_loss: 0.1425 - val_acc: 0.9518\n",
      "Epoch 2/10\n",
      "490/490 [==============================] - 128s 261ms/step - loss: 0.1433 - acc: 0.9559 - val_loss: 0.0519 - val_acc: 0.9822\n",
      "Epoch 3/10\n",
      "490/490 [==============================] - 130s 265ms/step - loss: 0.0799 - acc: 0.9748 - val_loss: 0.0334 - val_acc: 0.9893\n",
      "Epoch 4/10\n",
      "490/490 [==============================] - 130s 264ms/step - loss: 0.0558 - acc: 0.9817 - val_loss: 0.0371 - val_acc: 0.9893\n",
      "Epoch 5/10\n",
      "490/490 [==============================] - 130s 264ms/step - loss: 0.0395 - acc: 0.9885 - val_loss: 0.0226 - val_acc: 0.9929\n",
      "Epoch 6/10\n",
      "490/490 [==============================] - 128s 260ms/step - loss: 0.0321 - acc: 0.9901 - val_loss: 0.0187 - val_acc: 0.9938\n",
      "Epoch 7/10\n",
      "490/490 [==============================] - 128s 259ms/step - loss: 0.0266 - acc: 0.9918 - val_loss: 0.0162 - val_acc: 0.9955\n",
      "Epoch 8/10\n",
      "490/490 [==============================] - 129s 262ms/step - loss: 0.0199 - acc: 0.9939 - val_loss: 0.0115 - val_acc: 0.9973\n",
      "Epoch 9/10\n",
      "490/490 [==============================] - 129s 263ms/step - loss: 0.0154 - acc: 0.9955 - val_loss: 0.0160 - val_acc: 0.9929\n",
      "Epoch 10/10\n",
      "490/490 [==============================] - 129s 263ms/step - loss: 0.0115 - acc: 0.9962 - val_loss: 0.0230 - val_acc: 0.9938\n"
     ]
    }
   ],
   "source": [
    "# generate train and validate dataframes and train model\n",
    "train_data_dir = os.path.join(BASE_DIR, datasets[0])\n",
    "validate_data_dir = os.path.join(BASE_DIR, datasets[2])\n",
    "\n",
    "train_generator = train_datagen.flow_from_directory(\n",
    "        train_data_dir,\n",
    "        target_size=(img_width, img_height),\n",
    "        batch_size=32,\n",
    "        class_mode='categorical')\n",
    "\n",
    "validation_generator = test_datagen.flow_from_directory(\n",
    "        validate_data_dir,\n",
    "        target_size=(img_width, img_height),\n",
    "        batch_size=32,\n",
    "        class_mode='categorical')\n",
    "\n",
    "\n",
    "history = vgg16_model.fit(\n",
    "    train_generator,\n",
    "    steps_per_epoch=train_generator.samples / train_generator.batch_size,\n",
    "    epochs=10,\n",
    "    validation_data=validation_generator,\n",
    "    validation_steps=validation_generator.samples / validation_generator.batch_size,\n",
    "    verbose=1,\n",
    "    callbacks=callbacks\n",
    "    )\n"
   ]
  },
  {
   "cell_type": "code",
   "execution_count": 46,
   "id": "8e6cd865",
   "metadata": {},
   "outputs": [
    {
     "name": "stdout",
     "output_type": "stream",
     "text": [
      "saved model model_vgg16.h5\n"
     ]
    }
   ],
   "source": [
    "def save_model(model_to_save, model_string):\n",
    "    model_fname_h5 = model_string + '.h5'\n",
    "    model_to_save.save(model_fname_h5)\n",
    "    print('saved model', model_fname_h5)\n",
    "    \n",
    "# save the model\n",
    "save_model(model_to_save=vgg16_model, model_string=model_description)"
   ]
  },
  {
   "cell_type": "code",
   "execution_count": 47,
   "id": "3ad03c3a",
   "metadata": {},
   "outputs": [],
   "source": [
    "from keras.models import load_model\n",
    "test_model = load_model(model_file)"
   ]
  },
  {
   "cell_type": "code",
   "execution_count": 48,
   "id": "df2ab2b0",
   "metadata": {},
   "outputs": [
    {
     "name": "stdout",
     "output_type": "stream",
     "text": [
      "Found 5606 images belonging to 10 classes.\n"
     ]
    }
   ],
   "source": [
    "test_data_dir = os.path.join(BASE_DIR, datasets[1])\n",
    "test_generator = test_datagen.flow_from_directory(\n",
    "        test_data_dir,\n",
    "        target_size=(img_width, img_height),\n",
    "        batch_size=32,\n",
    "        class_mode='categorical',\n",
    "        shuffle=False\n",
    "        )"
   ]
  },
  {
   "cell_type": "code",
   "execution_count": 49,
   "id": "3a3a5c61",
   "metadata": {},
   "outputs": [
    {
     "name": "stdout",
     "output_type": "stream",
     "text": [
      "176/176 [==============================] - 12s 66ms/step\n"
     ]
    }
   ],
   "source": [
    "test_steps_per_epoch = np.math.ceil(test_generator.samples / test_generator.batch_size)\n",
    "\n",
    "# run the model and get most-likely class\n",
    "predictions = test_model.predict(\n",
    "    test_generator, \n",
    "    verbose=1\n",
    "    )"
   ]
  },
  {
   "cell_type": "code",
   "execution_count": 50,
   "id": "7a2cf3b1",
   "metadata": {},
   "outputs": [],
   "source": [
    "predicted_classes = np.argmax(predictions, axis=1)  # y_pred\n",
    "\n",
    "# get ground-truth classes and class labels\n",
    "true_classes = test_generator.classes  # y_val\n",
    "\n",
    "class_labels = list(test_generator.class_indices.keys())"
   ]
  },
  {
   "cell_type": "code",
   "execution_count": 51,
   "id": "595f4e4c",
   "metadata": {},
   "outputs": [
    {
     "data": {
      "text/plain": [
       "array([0, 0, 0, ..., 9, 8, 9], dtype=int64)"
      ]
     },
     "execution_count": 51,
     "metadata": {},
     "output_type": "execute_result"
    }
   ],
   "source": [
    "predicted_classes"
   ]
  },
  {
   "cell_type": "code",
   "execution_count": 52,
   "id": "5a0e6427",
   "metadata": {},
   "outputs": [
    {
     "data": {
      "text/plain": [
       "array([0, 0, 0, ..., 9, 9, 9])"
      ]
     },
     "execution_count": 52,
     "metadata": {},
     "output_type": "execute_result"
    }
   ],
   "source": [
    "true_classes"
   ]
  },
  {
   "cell_type": "code",
   "execution_count": 53,
   "id": "45a48ba6",
   "metadata": {},
   "outputs": [
    {
     "name": "stdout",
     "output_type": "stream",
     "text": [
      "[[608   1   0   0   1   0   0   0   0  12]\n",
      " [  0 564   0   0   0   0   1   0   0   0]\n",
      " [  0   0 578   0   0   0   1   0   0   0]\n",
      " [  1   0   0 585   1   0   0   0   0   0]\n",
      " [  0   0   0   0 580   0   1   0   0   0]\n",
      " [  1   0   1   0   0 574   0   0   1   1]\n",
      " [  0   0   0   0   0   0 581   0   0   0]\n",
      " [  0   0   0   0   0   0   0 500   0   1]\n",
      " [  0   1   0   0   0   0   4   0 472   1]\n",
      " [  0   0   0   0   1   0   0   0   2 531]]\n"
     ]
    }
   ],
   "source": [
    "from sklearn import metrics\n",
    "\n",
    "confusion_matrix = metrics.confusion_matrix(true_classes, predicted_classes)\n",
    "print(confusion_matrix)"
   ]
  },
  {
   "cell_type": "markdown",
   "id": "f161eb46",
   "metadata": {},
   "source": [
    "Confusion Matrix"
   ]
  },
  {
   "cell_type": "code",
   "execution_count": 54,
   "id": "b7cc9cea",
   "metadata": {},
   "outputs": [
    {
     "name": "stdout",
     "output_type": "stream",
     "text": [
      "Confusion matrix, without normalization\n",
      "[[608   1   0   0   1   0   0   0   0  12]\n",
      " [  0 564   0   0   0   0   1   0   0   0]\n",
      " [  0   0 578   0   0   0   1   0   0   0]\n",
      " [  1   0   0 585   1   0   0   0   0   0]\n",
      " [  0   0   0   0 580   0   1   0   0   0]\n",
      " [  1   0   1   0   0 574   0   0   1   1]\n",
      " [  0   0   0   0   0   0 581   0   0   0]\n",
      " [  0   0   0   0   0   0   0 500   0   1]\n",
      " [  0   1   0   0   0   0   4   0 472   1]\n",
      " [  0   0   0   0   1   0   0   0   2 531]]\n"
     ]
    },
    {
     "data": {
      "image/png": "[encoded data removed]",
      "text/plain": [
       "<Figure size 720x720 with 2 Axes>"
      ]
     },
     "metadata": {
      "needs_background": "light"
     },
     "output_type": "display_data"
    }
   ],
   "source": [
    "#confusion matrix vgg16\n",
    "import itertools\n",
    "import matplotlib.pyplot as plt\n",
    "from sklearn.metrics import confusion_matrix\n",
    "\n",
    "class_names = [\"Safe Driving\",\"Texting - Right\",\"Talking on phone - Right\",\"Texting - Left\",\"Talking on phone - Left\"\n",
    "              ,\"Operating the Radio\", \"Drinking\", \"Reaching Behind\", \"Hair and Makeup\",\"Talking to Passenger\"\n",
    "              ]\n",
    "\n",
    "def plot_confusion_matrix(cm, classes,\n",
    "                          normalize=False,\n",
    "                          title='Confusion matrix',\n",
    "                          cmap=plt.cm.Blues):\n",
    "    \"\"\"\n",
    "    This function prints and plots the confusion matrix.\n",
    "    Normalization can be applied by setting `normalize=True`.\n",
    "    \"\"\"\n",
    "    plt.imshow(cm, interpolation='nearest', cmap=cmap)\n",
    "    plt.title(title)\n",
    "    plt.colorbar()\n",
    "    tick_marks = np.arange(len(classes))\n",
    "    plt.xticks(tick_marks, classes, rotation=45)\n",
    "    plt.yticks(tick_marks, classes)\n",
    "\n",
    "    if normalize:\n",
    "        cm = cm.astype('float') / cm.sum(axis=1)[:, np.newaxis]\n",
    "        print(\"Normalized confusion matrix\")\n",
    "    else:\n",
    "        print('Confusion matrix, without normalization')\n",
    "\n",
    "    print(cm)\n",
    "\n",
    "    thresh = cm.max() / 2.\n",
    "    for i, j in itertools.product(range(cm.shape[0]), range(cm.shape[1])):\n",
    "        plt.text(j, i, cm[i, j],\n",
    "                 horizontalalignment=\"center\",\n",
    "                 color=\"white\" if cm[i, j] > thresh else \"black\")\n",
    "\n",
    "    plt.tight_layout()\n",
    "    plt.ylabel('True label')\n",
    "    plt.xlabel('Predicted label')\n",
    "\n",
    "# Compute confusion matrix\n",
    "# plt.figure()\n",
    "cnf_matrix = confusion_matrix(true_classes, predicted_classes)\n",
    "np.set_printoptions(precision=2)\n",
    "\n",
    "# Plot non-normalized confusion matrix\n",
    "plt.figure(figsize=(10,10))\n",
    "plot_confusion_matrix(cnf_matrix, classes=class_names,\n",
    "                      title='Confusion matrix, without normalization')\n",
    "\n",
    "# Plot normalized confusion matrix\n",
    "# plt.figure(figsize=(8,8))\n",
    "# np.set_printoptions(precision=2)\n",
    "\n",
    "# plot_confusion_matrix(cnf_matrix, classes=class_names, normalize=True,\n",
    "#                       title='Normalized confusion matrix')\n",
    "\n",
    "plt.show()"
   ]
  },
  {
   "cell_type": "code",
   "execution_count": null,
   "id": "74d593f8",
   "metadata": {},
   "outputs": [],
   "source": []
  },
  {
   "cell_type": "code",
   "execution_count": null,
   "id": "022f7aea",
   "metadata": {},
   "outputs": [],
   "source": []
  }
 ],
 "metadata": {
  "kernelspec": {
   "display_name": "distracted_driver",
   "language": "python",
   "name": "distracted_driver"
  },
  "language_info": {
   "codemirror_mode": {
    "name": "ipython",
    "version": 3
   },
   "file_extension": ".py",
   "mimetype": "text/x-python",
   "name": "python",
   "nbconvert_exporter": "python",
   "pygments_lexer": "ipython3",
   "version": "3.9.5"
  }
 },
 "nbformat": 4,
 "nbformat_minor": 5
}
